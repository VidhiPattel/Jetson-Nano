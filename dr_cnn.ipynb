{
 "cells": [
  {
   "cell_type": "code",
   "execution_count": 1,
   "metadata": {
    "id": "4bWxEzxXzice"
   },
   "outputs": [],
   "source": [
    "#from google.colab import drive\n",
    "#drive.mount('/content/drive')"
   ]
  },
  {
   "cell_type": "code",
   "execution_count": 2,
   "metadata": {
    "colab": {
     "base_uri": "https://localhost:8080/"
    },
    "id": "6SUN5deY0lvu",
    "outputId": "906081ea-f5a3-4ae5-9189-7eaea4394e3a"
   },
   "outputs": [
    {
     "name": "stdout",
     "output_type": "stream",
     "text": [
      "Requirement already satisfied: imagehash in /home/sourabh/env/lib/python3.6/site-packages (4.3.1)\r\n",
      "Requirement already satisfied: scipy in /home/sourabh/env/lib/python3.6/site-packages (from imagehash) (1.5.4)\r\n",
      "Requirement already satisfied: PyWavelets in /home/sourabh/env/lib/python3.6/site-packages (from imagehash) (1.1.1)\r\n",
      "Requirement already satisfied: pillow in /home/sourabh/env/lib/python3.6/site-packages (from imagehash) (6.2.2)\r\n",
      "Requirement already satisfied: numpy in /home/sourabh/.local/lib/python3.6/site-packages (from imagehash) (1.19.5)\r\n"
     ]
    }
   ],
   "source": [
    "!pip install imagehash"
   ]
  },
  {
   "cell_type": "code",
   "execution_count": 3,
   "metadata": {
    "scrolled": false
   },
   "outputs": [
    {
     "name": "stdout",
     "output_type": "stream",
     "text": [
      "Requirement already satisfied: scikit-learn in /home/sourabh/env/lib/python3.6/site-packages (0.24.2)\n",
      "Requirement already satisfied: scipy>=0.19.1 in /home/sourabh/env/lib/python3.6/site-packages (from scikit-learn) (1.5.4)\n",
      "Requirement already satisfied: joblib>=0.11 in /home/sourabh/env/lib/python3.6/site-packages (from scikit-learn) (1.1.1)\n",
      "Requirement already satisfied: numpy>=1.13.3 in /home/sourabh/.local/lib/python3.6/site-packages (from scikit-learn) (1.19.5)\n",
      "Requirement already satisfied: threadpoolctl>=2.0.0 in /home/sourabh/env/lib/python3.6/site-packages (from scikit-learn) (3.1.0)\n",
      "Note: you may need to restart the kernel to use updated packages.\n"
     ]
    }
   ],
   "source": [
    "pip install scikit-learn"
   ]
  },
  {
   "cell_type": "code",
   "execution_count": 4,
   "metadata": {
    "id": "iK_xCm4U0OwE"
   },
   "outputs": [],
   "source": [
    "import imagehash\n",
    "import numpy as np\n",
    "import pandas as pd\n",
    "import seaborn as sns\n",
    "import tensorflow as tf\n",
    "import matplotlib.pyplot as plt\n",
    "from PIL import Image\n",
    "#from sklearn.model_selection import train_test_split\n",
    "import pickle"
   ]
  },
  {
   "cell_type": "code",
   "execution_count": 5,
   "metadata": {
    "id": "yJQ0S6Iv3Zm0"
   },
   "outputs": [],
   "source": [
    "root_address = '.'"
   ]
  },
  {
   "cell_type": "code",
   "execution_count": 6,
   "metadata": {
    "colab": {
     "base_uri": "https://localhost:8080/",
     "height": 206
    },
    "id": "i16BuG4L0jQm",
    "outputId": "36bad27e-f5b1-4f14-8330-f834b4b6a275"
   },
   "outputs": [
    {
     "data": {
      "text/html": [
       "<div>\n",
       "<style scoped>\n",
       "    .dataframe tbody tr th:only-of-type {\n",
       "        vertical-align: middle;\n",
       "    }\n",
       "\n",
       "    .dataframe tbody tr th {\n",
       "        vertical-align: top;\n",
       "    }\n",
       "\n",
       "    .dataframe thead th {\n",
       "        text-align: right;\n",
       "    }\n",
       "</style>\n",
       "<table border=\"1\" class=\"dataframe\">\n",
       "  <thead>\n",
       "    <tr style=\"text-align: right;\">\n",
       "      <th></th>\n",
       "      <th>id_code</th>\n",
       "      <th>diagnosis</th>\n",
       "    </tr>\n",
       "  </thead>\n",
       "  <tbody>\n",
       "    <tr>\n",
       "      <th>0</th>\n",
       "      <td>000c1434d8d7</td>\n",
       "      <td>2</td>\n",
       "    </tr>\n",
       "    <tr>\n",
       "      <th>1</th>\n",
       "      <td>001639a390f0</td>\n",
       "      <td>4</td>\n",
       "    </tr>\n",
       "    <tr>\n",
       "      <th>2</th>\n",
       "      <td>0024cdab0c1e</td>\n",
       "      <td>1</td>\n",
       "    </tr>\n",
       "    <tr>\n",
       "      <th>3</th>\n",
       "      <td>002c21358ce6</td>\n",
       "      <td>0</td>\n",
       "    </tr>\n",
       "    <tr>\n",
       "      <th>4</th>\n",
       "      <td>005b95c28852</td>\n",
       "      <td>0</td>\n",
       "    </tr>\n",
       "  </tbody>\n",
       "</table>\n",
       "</div>"
      ],
      "text/plain": [
       "        id_code  diagnosis\n",
       "0  000c1434d8d7          2\n",
       "1  001639a390f0          4\n",
       "2  0024cdab0c1e          1\n",
       "3  002c21358ce6          0\n",
       "4  005b95c28852          0"
      ]
     },
     "execution_count": 6,
     "metadata": {},
     "output_type": "execute_result"
    }
   ],
   "source": [
    "data = pd.read_csv('/home/sourabh/Downloads/train.csv')\n",
    "data.head()"
   ]
  },
  {
   "cell_type": "markdown",
   "metadata": {
    "id": "vzXxqQpN07qR"
   },
   "source": [
    "# Data Overview"
   ]
  },
  {
   "cell_type": "code",
   "execution_count": 7,
   "metadata": {
    "colab": {
     "base_uri": "https://localhost:8080/",
     "height": 466
    },
    "id": "2rSHwg6V04tA",
    "outputId": "65c02c15-d366-447f-dcd3-6a74ee75809e"
   },
   "outputs": [
    {
     "data": {
      "text/plain": [
       "<AxesSubplot:xlabel='diagnosis', ylabel='count'>"
      ]
     },
     "execution_count": 7,
     "metadata": {},
     "output_type": "execute_result"
    },
    {
     "data": {
      "image/png": "[encoded data removed]",
      "text/plain": [
       "<Figure size 432x288 with 1 Axes>"
      ]
     },
     "metadata": {
      "needs_background": "light"
     },
     "output_type": "display_data"
    }
   ],
   "source": [
    "sns.countplot(data=data, x='diagnosis')"
   ]
  },
  {
   "cell_type": "markdown",
   "metadata": {
    "id": "r0sIqrEq1JRC"
   },
   "source": [
    "The values in diagnosis which indicate the category of data, are unevenly distributed. This leads to a highly biased neural network. We can merge Mild, Moderate, Proliferate_DR and Severe to one category, beside No_DR which is technicaly true: The network will predict whether there is signs of retinopathy in the patience or not. The stage of the disease is out of the context."
   ]
  },
  {
   "cell_type": "code",
   "execution_count": 8,
   "metadata": {
    "colab": {
     "base_uri": "https://localhost:8080/",
     "height": 466
    },
    "id": "T94dALFu1DEp",
    "outputId": "3e75c5b6-40a3-495e-c853-59b2950768ff"
   },
   "outputs": [
    {
     "data": {
      "text/plain": [
       "<AxesSubplot:xlabel='diagnosis', ylabel='count'>"
      ]
     },
     "execution_count": 8,
     "metadata": {},
     "output_type": "execute_result"
    },
    {
     "data": {
      "image/png": "[encoded data removed]",
      "text/plain": [
       "<Figure size 432x288 with 1 Axes>"
      ]
     },
     "metadata": {
      "needs_background": "light"
     },
     "output_type": "display_data"
    }
   ],
   "source": [
    "data2 = data.copy()\n",
    "\n",
    "data2['diagnosis'] = data2['diagnosis'] > 0\n",
    "data2['diagnosis'] = data2['diagnosis'].astype('int32')\n",
    "\n",
    "sns.countplot(data=data2, x='diagnosis')"
   ]
  },
  {
   "cell_type": "markdown",
   "metadata": {
    "id": "Qc9RrGKl1iFm"
   },
   "source": [
    "As it's shown above, now there is an almost evenly divided distribution."
   ]
  },
  {
   "cell_type": "markdown",
   "metadata": {
    "id": "nMHBbuqH1kBx"
   },
   "source": [
    "# Data split"
   ]
  },
  {
   "cell_type": "markdown",
   "metadata": {
    "id": "3NHkem_-1niT"
   },
   "source": [
    "Now data must be splitted into train, test and val sections.\n",
    "\n",
    "First we split data on 'train.csv' file. We will then know each filename belongs to what subdirectory."
   ]
  },
  {
   "cell_type": "code",
   "execution_count": 9,
   "metadata": {
    "id": "Q48kdJX04DA3"
   },
   "outputs": [],
   "source": [
    "import os\n",
    "import sys"
   ]
  },
  {
   "cell_type": "code",
   "execution_count": 10,
   "metadata": {
    "colab": {
     "base_uri": "https://localhost:8080/"
    },
    "id": "GMpCURcr4Qyf",
    "outputId": "966b66cb-ddcf-47eb-8974-ff445803259e"
   },
   "outputs": [
    {
     "name": "stdout",
     "output_type": "stream",
     "text": [
      "1\n",
      "0\n"
     ]
    }
   ],
   "source": [
    "import os\n",
    "import random\n",
    "import pandas as pd\n",
    "import numpy as np\n",
    "from shutil import copyfile\n",
    "\n",
    "data_dir = '/home/sourabh/Downloads/gaussian_filtered_images'\n",
    "print(len(os.listdir(data_dir+'/DR/')))\n",
    "print(len(os.listdir(data_dir+'/No_DR/')))"
   ]
  },
  {
   "cell_type": "code",
   "execution_count": 11,
   "metadata": {
    "colab": {
     "base_uri": "https://localhost:8080/"
    },
    "id": "VFaHNe05R-y-",
    "outputId": "dcfdfa30-21df-4e67-a234-9e0d035c8b54"
   },
   "outputs": [
    {
     "data": {
      "text/plain": [
       "['DR', 'No_DR']"
      ]
     },
     "execution_count": 11,
     "metadata": {},
     "output_type": "execute_result"
    }
   ],
   "source": [
    "data_dir = '/home/sourabh/Downloads/gaussian_filtered_images'\n",
    "classes = os.listdir(data_dir)\n",
    "classes"
   ]
  },
  {
   "cell_type": "code",
   "execution_count": 12,
   "metadata": {
    "colab": {
     "base_uri": "https://localhost:8080/"
    },
    "id": "nZC5301ESqCU",
    "outputId": "2b2fc1da-010c-4614-eb31-9a0313adf611"
   },
   "outputs": [
    {
     "name": "stdout",
     "output_type": "stream",
     "text": [
      "['/content/drive/MyDrive/data/gaussian_filtered_images/DR', '/content/drive/MyDrive/data/gaussian_filtered_images/No_DR']\n"
     ]
    }
   ],
   "source": [
    "source_path = [f'/content/drive/MyDrive/data/gaussian_filtered_images/{a}' for a in classes]\n",
    "print(source_path)"
   ]
  },
  {
   "cell_type": "code",
   "execution_count": 13,
   "metadata": {
    "colab": {
     "base_uri": "https://localhost:8080/"
    },
    "id": "QuF2kOVkT9we",
    "outputId": "25ac840f-dffc-4f4a-bfcb-c9075306d5ce"
   },
   "outputs": [
    {
     "data": {
      "text/plain": [
       "['DR_dir', 'No_DR_dir']"
      ]
     },
     "execution_count": 13,
     "metadata": {},
     "output_type": "execute_result"
    }
   ],
   "source": [
    "classes_dir = [f'{a}_dir' for a in classes]\n",
    "classes_dir"
   ]
  },
  {
   "cell_type": "code",
   "execution_count": 14,
   "metadata": {
    "colab": {
     "base_uri": "https://localhost:8080/"
    },
    "id": "Wd09ZivzVlza",
    "outputId": "71a32409-91fb-4f3b-a13d-5ad93879ab8b"
   },
   "outputs": [
    {
     "name": "stdout",
     "output_type": "stream",
     "text": [
      "\n",
      " ['/content/train/DR', '/content/train/No_DR']\n",
      "\n",
      " ['/content/val/DR', '/content/val/No_DR']\n",
      "\n",
      " ['/content/test/DR', '/content/test/No_DR']\n"
     ]
    }
   ],
   "source": [
    "TRAINING_PATH='/content/train'\n",
    "VALIDATION_PATH='/content/val'\n",
    "training_dir_path=[f'/content/train/{a}' for a in classes]\n",
    "print('\\n',training_dir_path)\n",
    "validation_dir_path=[f'/content/val/{a}' for a in classes]\n",
    "print('\\n',validation_dir_path)\n",
    "testing_dir_path=[f'/content/test/{a}' for a in classes]\n",
    "print('\\n',testing_dir_path)"
   ]
  },
  {
   "cell_type": "code",
   "execution_count": 15,
   "metadata": {
    "id": "aJ6KdOLsV1lS"
   },
   "outputs": [],
   "source": [
    "for train_dir_path in training_dir_path:\n",
    "    try:\n",
    "        os.mkdir(train_dir_path)\n",
    "    except OSError:\n",
    "        pass"
   ]
  },
  {
   "cell_type": "code",
   "execution_count": 16,
   "metadata": {
    "id": "xInNGTHcWNAu"
   },
   "outputs": [],
   "source": [
    "for val_dir_path in validation_dir_path:\n",
    "    try:\n",
    "        os.mkdir(val_dir_path)\n",
    "    except OSError:\n",
    "        pass"
   ]
  },
  {
   "cell_type": "code",
   "execution_count": 17,
   "metadata": {
    "id": "w5UaGlz8WRuX"
   },
   "outputs": [],
   "source": [
    "for test_dir_path in testing_dir_path:\n",
    "    try:\n",
    "        os.mkdir(test_dir_path)\n",
    "    except OSError:\n",
    "        pass"
   ]
  },
  {
   "cell_type": "code",
   "execution_count": 18,
   "metadata": {
    "id": "fvLwOLidrgyb"
   },
   "outputs": [],
   "source": [
    "from tensorflow.keras.models import load_model\n",
    "#new_model = load_model('/home/sourabh/dr-cnn-model.h5')\n",
    "new_model = load_model('/home/sourabh/Downloads/dr-cnn-model.h5', compile=False)\n"
   ]
  },
  {
   "cell_type": "code",
   "execution_count": 19,
   "metadata": {},
   "outputs": [],
   "source": [
    "x = '/home/sourabh/Downloads/gaussian_filtered_images/Moderate/0a9ec1e99ce4.png'\n"
   ]
  },
  {
   "cell_type": "code",
   "execution_count": 20,
   "metadata": {
    "colab": {
     "base_uri": "https://localhost:8080/"
    },
    "id": "tdgmZEeMsJSq",
    "outputId": "a09cff3a-4d69-48c4-e381-3468f54ba311"
   },
   "outputs": [
    {
     "name": "stdout",
     "output_type": "stream",
     "text": [
      "Model: \"model\"\n",
      "__________________________________________________________________________________________________\n",
      "Layer (type)                    Output Shape         Param #     Connected to                     \n",
      "==================================================================================================\n",
      "input_1 (InputLayer)            [(None, 224, 224, 3) 0                                            \n",
      "__________________________________________________________________________________________________\n",
      "conv2d (Conv2D)                 (None, 222, 222, 8)  224         input_1[0][0]                    \n",
      "__________________________________________________________________________________________________\n",
      "max_pooling2d (MaxPooling2D)    multiple             0           conv2d[0][0]                     \n",
      "                                                                 conv2d_1[0][0]                   \n",
      "                                                                 conv2d_2[0][0]                   \n",
      "__________________________________________________________________________________________________\n",
      "batch_normalization (BatchNorma (None, 74, 74, 8)    32          max_pooling2d[0][0]              \n",
      "__________________________________________________________________________________________________\n",
      "conv2d_1 (Conv2D)               (None, 72, 72, 8)    584         batch_normalization[0][0]        \n",
      "__________________________________________________________________________________________________\n",
      "batch_normalization_1 (BatchNor (None, 24, 24, 8)    32          max_pooling2d[1][0]              \n",
      "__________________________________________________________________________________________________\n",
      "conv2d_2 (Conv2D)               (None, 22, 22, 8)    584         batch_normalization_1[0][0]      \n",
      "__________________________________________________________________________________________________\n",
      "batch_normalization_2 (BatchNor (None, 7, 7, 8)      32          max_pooling2d[2][0]              \n",
      "__________________________________________________________________________________________________\n",
      "flatten (Flatten)               (None, 392)          0           batch_normalization_2[0][0]      \n",
      "__________________________________________________________________________________________________\n",
      "dense (Dense)                   (None, 50)           19650       flatten[0][0]                    \n",
      "__________________________________________________________________________________________________\n",
      "dropout (Dropout)               (None, 50)           0           dense[0][0]                      \n",
      "__________________________________________________________________________________________________\n",
      "dense_1 (Dense)                 (None, 2)            102         dropout[0][0]                    \n",
      "==================================================================================================\n",
      "Total params: 21,240\n",
      "Trainable params: 21,192\n",
      "Non-trainable params: 48\n",
      "__________________________________________________________________________________________________\n"
     ]
    }
   ],
   "source": [
    "new_model.summary()"
   ]
  },
  {
   "cell_type": "code",
   "execution_count": 21,
   "metadata": {
    "colab": {
     "base_uri": "https://localhost:8080/",
     "height": 469
    },
    "id": "kr5E6aO_tqfw",
    "outputId": "4d903b50-6b84-4aa4-e1e2-74452c64bb72"
   },
   "outputs": [
    {
     "name": "stderr",
     "output_type": "stream",
     "text": [
      "Using TensorFlow backend.\n"
     ]
    },
    {
     "name": "stdout",
     "output_type": "stream",
     "text": [
      "Predicted Label:  DR\n"
     ]
    },
    {
     "data": {
      "image/png": "[encoded data removed]",
      "text/plain": [
       "<Figure size 432x288 with 1 Axes>"
      ]
     },
     "metadata": {
      "needs_background": "light"
     },
     "output_type": "display_data"
    }
   ],
   "source": [
    "import tensorflow as tf\n",
    "from keras.models import load_model\n",
    "#from tensorflow.keras.preprocessing import image_dataset_from_directory\n",
    "from keras.preprocessing import image\n",
    "#from keras.utils import load_img\n",
    "#from tensorflow.keras.utils import load_img\n",
    "#from keras_preprocessing.image import load_img\n",
    "import keras.utils as image\n",
    "import matplotlib.pyplot as plt\n",
    "import numpy as np\n",
    "import os\n",
    "\n",
    "\n",
    "\n",
    "def load_image(img_path, show=False):\n",
    "\n",
    "    img = tf.keras.preprocessing.image.load_img(img_path, target_size=(224, 224))\n",
    "    img_tensor = tf.keras.preprocessing.image.img_to_array(img)                    # (height, width, channels)\n",
    "    img_tensor = np.expand_dims(img_tensor, axis=0)         # (1, height, width, channels), add a dimension because the model expects this shape: (batch_size, height, width, channels)\n",
    "    img_tensor /= 255.                                      # imshow expects values in the range [0, 1]\n",
    "\n",
    "    return img_tensor\n",
    "\n",
    "img_path = '/home/sourabh/Downloads/gaussian_filtered_images/DR/10003_left.jpeg'\n",
    "new_image = load_image(img_path)\n",
    "\n",
    "# img_tensor = load_img(img_path)\n",
    "# new_image = tensor_to_image(img_tensor)\n",
    "# def tensor_to_image(img_tensor):\n",
    "#     img_tensor = img_tensor*255\n",
    "#     img_tensor = np.array(img_tensor, dtype=np.uint8)\n",
    "#     if np.ndim(img_tensor)>3:\n",
    "#         assert img_tensor.shape[0] == 1\n",
    "#         img_tensor = img_tensor[0]\n",
    "     \n",
    "#     return PIL.Image.fromarray(img_tensor)\n",
    "\n",
    "img = np.asarray(Image.open('/home/sourabh/Downloads/gaussian_filtered_images/DR/10003_left.jpeg'))\n",
    "\n",
    "plt.imshow(img)\n",
    "\n",
    "\n",
    "\n",
    "\n",
    "\n",
    "\n",
    "#new_image = tf.keras.utils.load_image(img_path, target_size=(224, 224))\n",
    "#new_image = tf.keras.utils.load_img('/home/sourabh/Downloads/gaussian_filtered_images/Moderate/0a9ec1e99ce4.png')\n",
    "#new_image = ('/home/sourabh/Downloads/gaussian_filtered_images/Moderate/0a9ec1e99ce4.png')\n",
    "pred = new_model.predict(new_image)\n",
    "print('Predicted Label: ', classes[np.argmax(pred[0])])"
   ]
  },
  {
   "cell_type": "code",
   "execution_count": null,
   "metadata": {},
   "outputs": [],
   "source": []
  }
 ],
 "metadata": {
  "accelerator": "GPU",
  "colab": {
   "provenance": []
  },
  "gpuClass": "standard",
  "kernelspec": {
   "display_name": "Python 3 (ipykernel)",
   "language": "python",
   "name": "python3"
  },
  "language_info": {
   "codemirror_mode": {
    "name": "ipython",
    "version": 3
   },
   "file_extension": ".py",
   "mimetype": "text/x-python",
   "name": "python",
   "nbconvert_exporter": "python",
   "pygments_lexer": "ipython3",
   "version": "3.10.9"
  }
 },
 "nbformat": 4,
 "nbformat_minor": 1
}
